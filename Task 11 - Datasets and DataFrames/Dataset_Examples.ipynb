{
 "cells": [
  {
   "cell_type": "markdown",
   "metadata": {
    "id": "zgKR4UW0PlzA"
   },
   "source": [
    "## Manipulating data with pandas"
   ]
  },
  {
   "cell_type": "code",
   "execution_count": null,
   "metadata": {
    "id": "aRdjbefrK9LH"
   },
   "outputs": [],
   "source": [
    "# Import libraries\n",
    "import pandas as pd\n",
    "import seaborn as sns"
   ]
  },
  {
   "cell_type": "markdown",
   "metadata": {
    "id": "XnvRpdnVwEsR"
   },
   "source": [
    "**Note:** Seaborn is a data visualisation library you will learn more about later. Here we are using it to access an example dataset."
   ]
  },
  {
   "cell_type": "markdown",
   "metadata": {
    "id": "ywLzxuvzPlzD"
   },
   "source": [
    "## Iris dataset examples"
   ]
  },
  {
   "cell_type": "code",
   "execution_count": 3,
   "metadata": {
    "id": "Tf700AqgPlzD",
    "outputId": "76f80899-ea8d-415f-b484-17230d75873b"
   },
   "outputs": [
    {
     "name": "stdout",
     "output_type": "stream",
     "text": [
      "Index(['sepal_length', 'sepal_width', 'petal_length', 'petal_width',\n",
      "       'species'],\n",
      "      dtype='object')\n"
     ]
    }
   ],
   "source": [
    "# Load data from seaborn package\n",
    "iris_df = sns.load_dataset('iris')\n",
    "# Print all columns\n",
    "print(iris_df.columns)"
   ]
  },
  {
   "cell_type": "markdown",
   "metadata": {
    "id": "ebaas5zhPlzD"
   },
   "source": [
    "### Selecting columns in pandas"
   ]
  },
  {
   "cell_type": "code",
   "execution_count": 4,
   "metadata": {
    "id": "JQ1p87QTPlzD",
    "outputId": "838c8cfe-ea85-4d8b-e576-287aceb3b310"
   },
   "outputs": [
    {
     "data": {
      "text/plain": [
       "51     versicolor\n",
       "38         setosa\n",
       "64     versicolor\n",
       "142     virginica\n",
       "4          setosa\n",
       "Name: species, dtype: object"
      ]
     },
     "execution_count": 4,
     "metadata": {},
     "output_type": "execute_result"
    }
   ],
   "source": [
    "# Select only the species column\n",
    "just_the_species = iris_df['species']\n",
    "just_the_species.sample(5)"
   ]
  },
  {
   "cell_type": "code",
   "execution_count": 7,
   "metadata": {
    "id": "DtToEaskPlzE",
    "outputId": "98601a7a-a0c2-4fb0-9019-cf6037a6d24f"
   },
   "outputs": [
    {
     "data": {
      "text/html": [
       "<div>\n",
       "<style scoped>\n",
       "    .dataframe tbody tr th:only-of-type {\n",
       "        vertical-align: middle;\n",
       "    }\n",
       "\n",
       "    .dataframe tbody tr th {\n",
       "        vertical-align: top;\n",
       "    }\n",
       "\n",
       "    .dataframe thead th {\n",
       "        text-align: right;\n",
       "    }\n",
       "</style>\n",
       "<table border=\"1\" class=\"dataframe\">\n",
       "  <thead>\n",
       "    <tr style=\"text-align: right;\">\n",
       "      <th></th>\n",
       "      <th>sepal_length</th>\n",
       "      <th>sepal_width</th>\n",
       "      <th>petal_length</th>\n",
       "      <th>petal_width</th>\n",
       "    </tr>\n",
       "  </thead>\n",
       "  <tbody>\n",
       "    <tr>\n",
       "      <th>13</th>\n",
       "      <td>4.3</td>\n",
       "      <td>3.0</td>\n",
       "      <td>1.1</td>\n",
       "      <td>0.1</td>\n",
       "    </tr>\n",
       "    <tr>\n",
       "      <th>146</th>\n",
       "      <td>6.3</td>\n",
       "      <td>2.5</td>\n",
       "      <td>5.0</td>\n",
       "      <td>1.9</td>\n",
       "    </tr>\n",
       "    <tr>\n",
       "      <th>14</th>\n",
       "      <td>5.8</td>\n",
       "      <td>4.0</td>\n",
       "      <td>1.2</td>\n",
       "      <td>0.2</td>\n",
       "    </tr>\n",
       "    <tr>\n",
       "      <th>67</th>\n",
       "      <td>5.8</td>\n",
       "      <td>2.7</td>\n",
       "      <td>4.1</td>\n",
       "      <td>1.0</td>\n",
       "    </tr>\n",
       "    <tr>\n",
       "      <th>47</th>\n",
       "      <td>4.6</td>\n",
       "      <td>3.2</td>\n",
       "      <td>1.4</td>\n",
       "      <td>0.2</td>\n",
       "    </tr>\n",
       "  </tbody>\n",
       "</table>\n",
       "</div>"
      ],
      "text/plain": [
       "     sepal_length  sepal_width  petal_length  petal_width\n",
       "13            4.3          3.0           1.1          0.1\n",
       "146           6.3          2.5           5.0          1.9\n",
       "14            5.8          4.0           1.2          0.2\n",
       "67            5.8          2.7           4.1          1.0\n",
       "47            4.6          3.2           1.4          0.2"
      ]
     },
     "execution_count": 7,
     "metadata": {},
     "output_type": "execute_result"
    }
   ],
   "source": [
    "# Select columns with sepal and petal information\n",
    "sepal_and_petal_info = iris_df[['sepal_length', 'sepal_width', 'petal_length', 'petal_width']]\n",
    "sepal_and_petal_info.sample(5)"
   ]
  },
  {
   "cell_type": "code",
   "execution_count": 8,
   "metadata": {
    "id": "4yo4ESCzPlzE",
    "outputId": "cd98a565-76ca-4fa8-80be-4743fcb636b0"
   },
   "outputs": [
    {
     "data": {
      "text/html": [
       "<div>\n",
       "<style scoped>\n",
       "    .dataframe tbody tr th:only-of-type {\n",
       "        vertical-align: middle;\n",
       "    }\n",
       "\n",
       "    .dataframe tbody tr th {\n",
       "        vertical-align: top;\n",
       "    }\n",
       "\n",
       "    .dataframe thead th {\n",
       "        text-align: right;\n",
       "    }\n",
       "</style>\n",
       "<table border=\"1\" class=\"dataframe\">\n",
       "  <thead>\n",
       "    <tr style=\"text-align: right;\">\n",
       "      <th></th>\n",
       "      <th>sepal_length</th>\n",
       "      <th>sepal_width</th>\n",
       "      <th>petal_length</th>\n",
       "      <th>petal_width</th>\n",
       "      <th>species</th>\n",
       "    </tr>\n",
       "  </thead>\n",
       "  <tbody>\n",
       "    <tr>\n",
       "      <th>2</th>\n",
       "      <td>4.7</td>\n",
       "      <td>3.2</td>\n",
       "      <td>1.3</td>\n",
       "      <td>0.2</td>\n",
       "      <td>setosa</td>\n",
       "    </tr>\n",
       "    <tr>\n",
       "      <th>47</th>\n",
       "      <td>4.6</td>\n",
       "      <td>3.2</td>\n",
       "      <td>1.4</td>\n",
       "      <td>0.2</td>\n",
       "      <td>setosa</td>\n",
       "    </tr>\n",
       "    <tr>\n",
       "      <th>3</th>\n",
       "      <td>4.6</td>\n",
       "      <td>3.1</td>\n",
       "      <td>1.5</td>\n",
       "      <td>0.2</td>\n",
       "      <td>setosa</td>\n",
       "    </tr>\n",
       "    <tr>\n",
       "      <th>22</th>\n",
       "      <td>4.6</td>\n",
       "      <td>3.6</td>\n",
       "      <td>1.0</td>\n",
       "      <td>0.2</td>\n",
       "      <td>setosa</td>\n",
       "    </tr>\n",
       "    <tr>\n",
       "      <th>41</th>\n",
       "      <td>4.5</td>\n",
       "      <td>2.3</td>\n",
       "      <td>1.3</td>\n",
       "      <td>0.3</td>\n",
       "      <td>setosa</td>\n",
       "    </tr>\n",
       "  </tbody>\n",
       "</table>\n",
       "</div>"
      ],
      "text/plain": [
       "    sepal_length  sepal_width  petal_length  petal_width species\n",
       "2            4.7          3.2           1.3          0.2  setosa\n",
       "47           4.6          3.2           1.4          0.2  setosa\n",
       "3            4.6          3.1           1.5          0.2  setosa\n",
       "22           4.6          3.6           1.0          0.2  setosa\n",
       "41           4.5          2.3           1.3          0.3  setosa"
      ]
     },
     "execution_count": 8,
     "metadata": {},
     "output_type": "execute_result"
    }
   ],
   "source": [
    "# Filter for specific values in a column\n",
    "small_sepal_length = iris_df[iris_df['sepal_length'] < 4.8]\n",
    "small_sepal_length.sample(5)"
   ]
  },
  {
   "cell_type": "markdown",
   "metadata": {
    "id": "-uk0NFfrPlzE"
   },
   "source": [
    "## Insurance dataset examples"
   ]
  },
  {
   "cell_type": "markdown",
   "metadata": {
    "id": "0C3ySq_bPlzF"
   },
   "source": [
    "Below we import data from a csv file called 'insurance.csv'. The text file is found in the task folder. Make sure it is in the same directory that the notebook is saved in."
   ]
  },
  {
   "cell_type": "code",
   "execution_count": 9,
   "metadata": {
    "id": "JPgsaAb1PlzF",
    "outputId": "91764807-a9af-491b-b117-5879ae5bc677"
   },
   "outputs": [
    {
     "data": {
      "text/plain": [
       "Index(['age', 'sex', 'bmi', 'children', 'smoker', 'region', 'charges'], dtype='object')"
      ]
     },
     "execution_count": 9,
     "metadata": {},
     "output_type": "execute_result"
    }
   ],
   "source": [
    "# Load data\n",
    "insurance_df = pd.read_csv(\"insurance.csv\")\n",
    "insurance_df.columns"
   ]
  },
  {
   "cell_type": "markdown",
   "metadata": {
    "id": "IS0Vg59ZPlzF"
   },
   "source": [
    "### Grouping in pandas"
   ]
  },
  {
   "cell_type": "code",
   "execution_count": 10,
   "metadata": {
    "id": "c9N-lbaJPlzF",
    "outputId": "433231fc-b741-4d09-8eeb-a5170ef80000"
   },
   "outputs": [
    {
     "name": "stdout",
     "output_type": "stream",
     "text": [
      "10839.408303333334\n"
     ]
    }
   ],
   "source": [
    "# Get people in the 30-35 age group\n",
    "between_30_and_35 = insurance_df[(insurance_df['age'] > 30) & (insurance_df['age'] < 35 )]\n",
    "\n",
    "# Print mean charges for all people in 30-35 age group\n",
    "print(between_30_and_35['charges'].mean())"
   ]
  },
  {
   "cell_type": "code",
   "execution_count": 11,
   "metadata": {
    "id": "DjtBAu_MPlzF",
    "outputId": "ea1c34c4-0eae-492a-af7c-9ad2ac3603b3"
   },
   "outputs": [
    {
     "name": "stdout",
     "output_type": "stream",
     "text": [
      "10839.408303333334\n"
     ]
    }
   ],
   "source": [
    "# Use the query method to get people in the 30-35 age group\n",
    "between_30_and_35 = insurance_df.query(\"age > 30 and age < 35\")\n",
    "\n",
    "# Print mean charges for all people in the 30-35 age group\n",
    "print(between_30_and_35['charges'].mean())"
   ]
  },
  {
   "cell_type": "code",
   "execution_count": null,
   "metadata": {
    "id": "-EuE_05dPlzF",
    "outputId": "8d5f2484-5bf9-42d2-90ff-632163534d58"
   },
   "outputs": [
    {
     "name": "stdout",
     "output_type": "stream",
     "text": [
      "age\n",
      "18     7086.217556\n",
      "19     9747.909335\n",
      "20    10159.697736\n",
      "21     4730.464330\n",
      "22    10012.932802\n",
      "23    12419.820040\n",
      "24    10648.015962\n",
      "25     9838.365311\n",
      "26     6133.825309\n",
      "27    12184.701721\n",
      "28     9069.187564\n",
      "29    10430.158727\n",
      "30    12719.110358\n",
      "31    10196.980573\n",
      "32     9220.300291\n",
      "33    12351.532987\n",
      "34    11613.528121\n",
      "35    11307.182031\n",
      "36    12204.476138\n",
      "37    18019.911877\n",
      "38     8102.733674\n",
      "39    11778.242945\n",
      "40    11772.251310\n",
      "41     9653.745650\n",
      "42    13061.038669\n",
      "43    19267.278653\n",
      "44    15859.396587\n",
      "45    14830.199856\n",
      "46    14342.590639\n",
      "47    17653.999593\n",
      "48    14632.500445\n",
      "49    12696.006264\n",
      "50    15663.003301\n",
      "51    15682.255867\n",
      "52    18256.269719\n",
      "53    16020.930755\n",
      "54    18758.546475\n",
      "55    16164.545488\n",
      "56    15025.515837\n",
      "57    16447.185250\n",
      "58    13878.928112\n",
      "59    18895.869532\n",
      "60    21979.418507\n",
      "61    22024.457609\n",
      "62    19163.856573\n",
      "63    19884.998461\n",
      "64    23275.530837\n",
      "Name: charges, dtype: float64\n"
     ]
    }
   ],
   "source": [
    "# Get the mean charges for each age\n",
    "print(insurance_df.groupby('age')['charges'].mean())"
   ]
  },
  {
   "cell_type": "markdown",
   "metadata": {
    "id": "3ohay2LsK9LC"
   },
   "source": [
    "### Balance dataset examples"
   ]
  },
  {
   "cell_type": "markdown",
   "metadata": {
    "id": "1UBiWgQiK9LI"
   },
   "source": [
    "Below we import data from a text file called 'balance.txt'. The text file is found in the task folder. Make sure it is in the same directory that the notebook is saved in."
   ]
  },
  {
   "cell_type": "code",
   "execution_count": 13,
   "metadata": {
    "id": "2sOfiEpEK9LJ"
   },
   "outputs": [],
   "source": [
    "# Load data\n",
    "df = pd.read_csv('balance.txt',sep=' ')"
   ]
  },
  {
   "cell_type": "markdown",
   "metadata": {
    "id": "Rbm856BhK9LJ"
   },
   "source": [
    "Here is how to view the top rows of the frame. The `head()` function shows the first five observations. Use this to get a glimpse of the data such as the column names and the type of data in the columns."
   ]
  },
  {
   "cell_type": "code",
   "execution_count": 14,
   "metadata": {
    "id": "CdB4bnsZK9LK",
    "outputId": "869f522e-ab1d-44aa-a59b-e1cf8f037029"
   },
   "outputs": [
    {
     "data": {
      "text/html": [
       "<div>\n",
       "<style scoped>\n",
       "    .dataframe tbody tr th:only-of-type {\n",
       "        vertical-align: middle;\n",
       "    }\n",
       "\n",
       "    .dataframe tbody tr th {\n",
       "        vertical-align: top;\n",
       "    }\n",
       "\n",
       "    .dataframe thead th {\n",
       "        text-align: right;\n",
       "    }\n",
       "</style>\n",
       "<table border=\"1\" class=\"dataframe\">\n",
       "  <thead>\n",
       "    <tr style=\"text-align: right;\">\n",
       "      <th></th>\n",
       "      <th>Balance</th>\n",
       "      <th>Income</th>\n",
       "      <th>Limit</th>\n",
       "      <th>Rating</th>\n",
       "      <th>Cards</th>\n",
       "      <th>Age</th>\n",
       "      <th>Education</th>\n",
       "      <th>Gender</th>\n",
       "      <th>Student</th>\n",
       "      <th>Married</th>\n",
       "      <th>Ethnicity</th>\n",
       "    </tr>\n",
       "  </thead>\n",
       "  <tbody>\n",
       "    <tr>\n",
       "      <th>0</th>\n",
       "      <td>12.240798</td>\n",
       "      <td>14.891</td>\n",
       "      <td>3606</td>\n",
       "      <td>283</td>\n",
       "      <td>2</td>\n",
       "      <td>34</td>\n",
       "      <td>11</td>\n",
       "      <td>Male</td>\n",
       "      <td>No</td>\n",
       "      <td>Yes</td>\n",
       "      <td>Caucasian</td>\n",
       "    </tr>\n",
       "    <tr>\n",
       "      <th>1</th>\n",
       "      <td>23.283334</td>\n",
       "      <td>106.025</td>\n",
       "      <td>6645</td>\n",
       "      <td>483</td>\n",
       "      <td>3</td>\n",
       "      <td>82</td>\n",
       "      <td>15</td>\n",
       "      <td>Female</td>\n",
       "      <td>Yes</td>\n",
       "      <td>Yes</td>\n",
       "      <td>Asian</td>\n",
       "    </tr>\n",
       "    <tr>\n",
       "      <th>2</th>\n",
       "      <td>22.530409</td>\n",
       "      <td>104.593</td>\n",
       "      <td>7075</td>\n",
       "      <td>514</td>\n",
       "      <td>4</td>\n",
       "      <td>71</td>\n",
       "      <td>11</td>\n",
       "      <td>Male</td>\n",
       "      <td>No</td>\n",
       "      <td>No</td>\n",
       "      <td>Asian</td>\n",
       "    </tr>\n",
       "    <tr>\n",
       "      <th>3</th>\n",
       "      <td>27.652811</td>\n",
       "      <td>148.924</td>\n",
       "      <td>9504</td>\n",
       "      <td>681</td>\n",
       "      <td>3</td>\n",
       "      <td>36</td>\n",
       "      <td>11</td>\n",
       "      <td>Female</td>\n",
       "      <td>No</td>\n",
       "      <td>No</td>\n",
       "      <td>Asian</td>\n",
       "    </tr>\n",
       "    <tr>\n",
       "      <th>4</th>\n",
       "      <td>16.893978</td>\n",
       "      <td>55.882</td>\n",
       "      <td>4897</td>\n",
       "      <td>357</td>\n",
       "      <td>2</td>\n",
       "      <td>68</td>\n",
       "      <td>16</td>\n",
       "      <td>Male</td>\n",
       "      <td>No</td>\n",
       "      <td>Yes</td>\n",
       "      <td>Caucasian</td>\n",
       "    </tr>\n",
       "  </tbody>\n",
       "</table>\n",
       "</div>"
      ],
      "text/plain": [
       "     Balance   Income  Limit  Rating  Cards  Age  Education  Gender Student  \\\n",
       "0  12.240798   14.891   3606     283      2   34         11    Male      No   \n",
       "1  23.283334  106.025   6645     483      3   82         15  Female     Yes   \n",
       "2  22.530409  104.593   7075     514      4   71         11    Male      No   \n",
       "3  27.652811  148.924   9504     681      3   36         11  Female      No   \n",
       "4  16.893978   55.882   4897     357      2   68         16    Male      No   \n",
       "\n",
       "  Married  Ethnicity  \n",
       "0     Yes  Caucasian  \n",
       "1     Yes      Asian  \n",
       "2      No      Asian  \n",
       "3      No      Asian  \n",
       "4     Yes  Caucasian  "
      ]
     },
     "execution_count": 14,
     "metadata": {},
     "output_type": "execute_result"
    }
   ],
   "source": [
    "df.head()"
   ]
  },
  {
   "cell_type": "markdown",
   "metadata": {
    "id": "7KJvPxufK9LL"
   },
   "source": [
    "This shows the last observations of the dataset"
   ]
  },
  {
   "cell_type": "code",
   "execution_count": 15,
   "metadata": {
    "id": "AAzHv1ymK9LL",
    "outputId": "8594bd59-ed4d-4beb-c13d-2fd77cb81473",
    "scrolled": true
   },
   "outputs": [
    {
     "data": {
      "text/html": [
       "<div>\n",
       "<style scoped>\n",
       "    .dataframe tbody tr th:only-of-type {\n",
       "        vertical-align: middle;\n",
       "    }\n",
       "\n",
       "    .dataframe tbody tr th {\n",
       "        vertical-align: top;\n",
       "    }\n",
       "\n",
       "    .dataframe thead th {\n",
       "        text-align: right;\n",
       "    }\n",
       "</style>\n",
       "<table border=\"1\" class=\"dataframe\">\n",
       "  <thead>\n",
       "    <tr style=\"text-align: right;\">\n",
       "      <th></th>\n",
       "      <th>Balance</th>\n",
       "      <th>Income</th>\n",
       "      <th>Limit</th>\n",
       "      <th>Rating</th>\n",
       "      <th>Cards</th>\n",
       "      <th>Age</th>\n",
       "      <th>Education</th>\n",
       "      <th>Gender</th>\n",
       "      <th>Student</th>\n",
       "      <th>Married</th>\n",
       "      <th>Ethnicity</th>\n",
       "    </tr>\n",
       "  </thead>\n",
       "  <tbody>\n",
       "    <tr>\n",
       "      <th>393</th>\n",
       "      <td>10.958612</td>\n",
       "      <td>17.316</td>\n",
       "      <td>1335</td>\n",
       "      <td>138</td>\n",
       "      <td>2</td>\n",
       "      <td>65</td>\n",
       "      <td>13</td>\n",
       "      <td>Male</td>\n",
       "      <td>No</td>\n",
       "      <td>No</td>\n",
       "      <td>African American</td>\n",
       "    </tr>\n",
       "    <tr>\n",
       "      <th>394</th>\n",
       "      <td>14.735482</td>\n",
       "      <td>49.794</td>\n",
       "      <td>5758</td>\n",
       "      <td>410</td>\n",
       "      <td>4</td>\n",
       "      <td>40</td>\n",
       "      <td>8</td>\n",
       "      <td>Male</td>\n",
       "      <td>No</td>\n",
       "      <td>No</td>\n",
       "      <td>Caucasian</td>\n",
       "    </tr>\n",
       "    <tr>\n",
       "      <th>395</th>\n",
       "      <td>8.764984</td>\n",
       "      <td>12.096</td>\n",
       "      <td>4100</td>\n",
       "      <td>307</td>\n",
       "      <td>3</td>\n",
       "      <td>32</td>\n",
       "      <td>13</td>\n",
       "      <td>Male</td>\n",
       "      <td>No</td>\n",
       "      <td>Yes</td>\n",
       "      <td>Caucasian</td>\n",
       "    </tr>\n",
       "    <tr>\n",
       "      <th>396</th>\n",
       "      <td>9.943838</td>\n",
       "      <td>13.364</td>\n",
       "      <td>3838</td>\n",
       "      <td>296</td>\n",
       "      <td>5</td>\n",
       "      <td>65</td>\n",
       "      <td>17</td>\n",
       "      <td>Male</td>\n",
       "      <td>No</td>\n",
       "      <td>No</td>\n",
       "      <td>African American</td>\n",
       "    </tr>\n",
       "    <tr>\n",
       "      <th>397</th>\n",
       "      <td>14.882078</td>\n",
       "      <td>57.872</td>\n",
       "      <td>4171</td>\n",
       "      <td>321</td>\n",
       "      <td>5</td>\n",
       "      <td>67</td>\n",
       "      <td>12</td>\n",
       "      <td>Female</td>\n",
       "      <td>No</td>\n",
       "      <td>Yes</td>\n",
       "      <td>Caucasian</td>\n",
       "    </tr>\n",
       "    <tr>\n",
       "      <th>398</th>\n",
       "      <td>12.001071</td>\n",
       "      <td>37.728</td>\n",
       "      <td>2525</td>\n",
       "      <td>192</td>\n",
       "      <td>1</td>\n",
       "      <td>44</td>\n",
       "      <td>13</td>\n",
       "      <td>Male</td>\n",
       "      <td>No</td>\n",
       "      <td>Yes</td>\n",
       "      <td>Caucasian</td>\n",
       "    </tr>\n",
       "    <tr>\n",
       "      <th>399</th>\n",
       "      <td>10.159598</td>\n",
       "      <td>18.701</td>\n",
       "      <td>5524</td>\n",
       "      <td>415</td>\n",
       "      <td>5</td>\n",
       "      <td>64</td>\n",
       "      <td>7</td>\n",
       "      <td>Female</td>\n",
       "      <td>No</td>\n",
       "      <td>No</td>\n",
       "      <td>Asian</td>\n",
       "    </tr>\n",
       "  </tbody>\n",
       "</table>\n",
       "</div>"
      ],
      "text/plain": [
       "       Balance  Income  Limit  Rating  Cards  Age  Education  Gender Student  \\\n",
       "393  10.958612  17.316   1335     138      2   65         13    Male      No   \n",
       "394  14.735482  49.794   5758     410      4   40          8    Male      No   \n",
       "395   8.764984  12.096   4100     307      3   32         13    Male      No   \n",
       "396   9.943838  13.364   3838     296      5   65         17    Male      No   \n",
       "397  14.882078  57.872   4171     321      5   67         12  Female      No   \n",
       "398  12.001071  37.728   2525     192      1   44         13    Male      No   \n",
       "399  10.159598  18.701   5524     415      5   64          7  Female      No   \n",
       "\n",
       "    Married         Ethnicity  \n",
       "393      No  African American  \n",
       "394      No         Caucasian  \n",
       "395     Yes         Caucasian  \n",
       "396      No  African American  \n",
       "397     Yes         Caucasian  \n",
       "398     Yes         Caucasian  \n",
       "399      No             Asian  "
      ]
     },
     "execution_count": 15,
     "metadata": {},
     "output_type": "execute_result"
    }
   ],
   "source": [
    "df.tail(7)"
   ]
  },
  {
   "cell_type": "markdown",
   "metadata": {
    "id": "1hVl8r7WK9LM"
   },
   "source": [
    "To get the range of indices in your DataFrame, use the `DataFrame.index` attribute. This allows you to identify the valid index range for your observations. For instance, by using the index attribute as shown below, we can determine that the DataFrame index ranges from 0 to 400. Consequently, attempting to access an index outside this range, such as 450, would be invalid for this dataset."
   ]
  },
  {
   "cell_type": "code",
   "execution_count": 16,
   "metadata": {
    "id": "4fcvHpXRK9LM",
    "outputId": "361a06ea-3af7-40c0-8960-fc52f0828e92"
   },
   "outputs": [
    {
     "data": {
      "text/plain": [
       "RangeIndex(start=0, stop=400, step=1)"
      ]
     },
     "execution_count": 16,
     "metadata": {},
     "output_type": "execute_result"
    }
   ],
   "source": [
    "df.index"
   ]
  },
  {
   "cell_type": "markdown",
   "metadata": {
    "id": "SeQfS_gcK9LN"
   },
   "source": [
    "Within the domain of pandas DataFrames, the `DataFrame.columns` attribute plays a vital role in data comprehension and manipulation. This attribute functions as a catalog, providing a list of all column names within your DataFrame, represented as df."
   ]
  },
  {
   "cell_type": "code",
   "execution_count": 17,
   "metadata": {
    "id": "ukBxkbdkK9LN",
    "outputId": "01e90e7b-05c0-4637-f49e-d866fabbbd86"
   },
   "outputs": [
    {
     "data": {
      "text/plain": [
       "Index(['Balance', 'Income', 'Limit', 'Rating', 'Cards', 'Age', 'Education',\n",
       "       'Gender', 'Student', 'Married', 'Ethnicity'],\n",
       "      dtype='object')"
      ]
     },
     "execution_count": 17,
     "metadata": {},
     "output_type": "execute_result"
    }
   ],
   "source": [
    "df.columns"
   ]
  },
  {
   "cell_type": "markdown",
   "metadata": {
    "id": "GxpfKgVkK9LN"
   },
   "source": [
    "`describe()` shows a quick statistic summary of your data. As you can see, statistics are only calculated for columns with numerical values."
   ]
  },
  {
   "cell_type": "code",
   "execution_count": 18,
   "metadata": {
    "id": "U0IuMXWdK9LO",
    "outputId": "4e664a88-5fa7-443a-e60d-b3f98c2d9a7e",
    "scrolled": false
   },
   "outputs": [
    {
     "data": {
      "text/html": [
       "<div>\n",
       "<style scoped>\n",
       "    .dataframe tbody tr th:only-of-type {\n",
       "        vertical-align: middle;\n",
       "    }\n",
       "\n",
       "    .dataframe tbody tr th {\n",
       "        vertical-align: top;\n",
       "    }\n",
       "\n",
       "    .dataframe thead th {\n",
       "        text-align: right;\n",
       "    }\n",
       "</style>\n",
       "<table border=\"1\" class=\"dataframe\">\n",
       "  <thead>\n",
       "    <tr style=\"text-align: right;\">\n",
       "      <th></th>\n",
       "      <th>Balance</th>\n",
       "      <th>Income</th>\n",
       "      <th>Limit</th>\n",
       "      <th>Rating</th>\n",
       "      <th>Cards</th>\n",
       "      <th>Age</th>\n",
       "      <th>Education</th>\n",
       "    </tr>\n",
       "  </thead>\n",
       "  <tbody>\n",
       "    <tr>\n",
       "      <th>count</th>\n",
       "      <td>400.000000</td>\n",
       "      <td>400.000000</td>\n",
       "      <td>400.000000</td>\n",
       "      <td>400.000000</td>\n",
       "      <td>400.000000</td>\n",
       "      <td>400.000000</td>\n",
       "      <td>400.000000</td>\n",
       "    </tr>\n",
       "    <tr>\n",
       "      <th>mean</th>\n",
       "      <td>13.429175</td>\n",
       "      <td>45.218885</td>\n",
       "      <td>4735.600000</td>\n",
       "      <td>354.940000</td>\n",
       "      <td>2.957500</td>\n",
       "      <td>55.667500</td>\n",
       "      <td>13.450000</td>\n",
       "    </tr>\n",
       "    <tr>\n",
       "      <th>std</th>\n",
       "      <td>5.669256</td>\n",
       "      <td>35.244273</td>\n",
       "      <td>2308.198848</td>\n",
       "      <td>154.724143</td>\n",
       "      <td>1.371275</td>\n",
       "      <td>17.249807</td>\n",
       "      <td>3.125207</td>\n",
       "    </tr>\n",
       "    <tr>\n",
       "      <th>min</th>\n",
       "      <td>3.749403</td>\n",
       "      <td>10.354000</td>\n",
       "      <td>855.000000</td>\n",
       "      <td>93.000000</td>\n",
       "      <td>1.000000</td>\n",
       "      <td>23.000000</td>\n",
       "      <td>5.000000</td>\n",
       "    </tr>\n",
       "    <tr>\n",
       "      <th>25%</th>\n",
       "      <td>9.891439</td>\n",
       "      <td>21.007250</td>\n",
       "      <td>3088.000000</td>\n",
       "      <td>247.250000</td>\n",
       "      <td>2.000000</td>\n",
       "      <td>41.750000</td>\n",
       "      <td>11.000000</td>\n",
       "    </tr>\n",
       "    <tr>\n",
       "      <th>50%</th>\n",
       "      <td>11.779615</td>\n",
       "      <td>33.115500</td>\n",
       "      <td>4622.500000</td>\n",
       "      <td>344.000000</td>\n",
       "      <td>3.000000</td>\n",
       "      <td>56.000000</td>\n",
       "      <td>14.000000</td>\n",
       "    </tr>\n",
       "    <tr>\n",
       "      <th>75%</th>\n",
       "      <td>15.236961</td>\n",
       "      <td>57.470750</td>\n",
       "      <td>5872.750000</td>\n",
       "      <td>437.250000</td>\n",
       "      <td>4.000000</td>\n",
       "      <td>70.000000</td>\n",
       "      <td>16.000000</td>\n",
       "    </tr>\n",
       "    <tr>\n",
       "      <th>max</th>\n",
       "      <td>38.785123</td>\n",
       "      <td>186.634000</td>\n",
       "      <td>13913.000000</td>\n",
       "      <td>982.000000</td>\n",
       "      <td>9.000000</td>\n",
       "      <td>98.000000</td>\n",
       "      <td>20.000000</td>\n",
       "    </tr>\n",
       "  </tbody>\n",
       "</table>\n",
       "</div>"
      ],
      "text/plain": [
       "          Balance      Income         Limit      Rating       Cards  \\\n",
       "count  400.000000  400.000000    400.000000  400.000000  400.000000   \n",
       "mean    13.429175   45.218885   4735.600000  354.940000    2.957500   \n",
       "std      5.669256   35.244273   2308.198848  154.724143    1.371275   \n",
       "min      3.749403   10.354000    855.000000   93.000000    1.000000   \n",
       "25%      9.891439   21.007250   3088.000000  247.250000    2.000000   \n",
       "50%     11.779615   33.115500   4622.500000  344.000000    3.000000   \n",
       "75%     15.236961   57.470750   5872.750000  437.250000    4.000000   \n",
       "max     38.785123  186.634000  13913.000000  982.000000    9.000000   \n",
       "\n",
       "              Age   Education  \n",
       "count  400.000000  400.000000  \n",
       "mean    55.667500   13.450000  \n",
       "std     17.249807    3.125207  \n",
       "min     23.000000    5.000000  \n",
       "25%     41.750000   11.000000  \n",
       "50%     56.000000   14.000000  \n",
       "75%     70.000000   16.000000  \n",
       "max     98.000000   20.000000  "
      ]
     },
     "execution_count": 18,
     "metadata": {},
     "output_type": "execute_result"
    }
   ],
   "source": [
    "df.describe()"
   ]
  },
  {
   "cell_type": "markdown",
   "metadata": {
    "id": "doGPFdjKK9LO"
   },
   "source": [
    "The `sort_values()` method in pandas organizes data rows into a structured sequence. It accepts parameters like column names and defaults to sorting in ascending order. To sort data in descending order, specify `ascending=False` in the method call."
   ]
  },
  {
   "cell_type": "code",
   "execution_count": 19,
   "metadata": {
    "id": "SeeoHUZEK9LO",
    "outputId": "4d93e623-32e8-41db-e5cc-71f1585cd39c"
   },
   "outputs": [
    {
     "data": {
      "text/html": [
       "<div>\n",
       "<style scoped>\n",
       "    .dataframe tbody tr th:only-of-type {\n",
       "        vertical-align: middle;\n",
       "    }\n",
       "\n",
       "    .dataframe tbody tr th {\n",
       "        vertical-align: top;\n",
       "    }\n",
       "\n",
       "    .dataframe thead th {\n",
       "        text-align: right;\n",
       "    }\n",
       "</style>\n",
       "<table border=\"1\" class=\"dataframe\">\n",
       "  <thead>\n",
       "    <tr style=\"text-align: right;\">\n",
       "      <th></th>\n",
       "      <th>Balance</th>\n",
       "      <th>Income</th>\n",
       "      <th>Limit</th>\n",
       "      <th>Rating</th>\n",
       "      <th>Cards</th>\n",
       "      <th>Age</th>\n",
       "      <th>Education</th>\n",
       "      <th>Gender</th>\n",
       "      <th>Student</th>\n",
       "      <th>Married</th>\n",
       "      <th>Ethnicity</th>\n",
       "    </tr>\n",
       "  </thead>\n",
       "  <tbody>\n",
       "    <tr>\n",
       "      <th>28</th>\n",
       "      <td>35.271011</td>\n",
       "      <td>186.634</td>\n",
       "      <td>13414</td>\n",
       "      <td>949</td>\n",
       "      <td>2</td>\n",
       "      <td>41</td>\n",
       "      <td>14</td>\n",
       "      <td>Female</td>\n",
       "      <td>No</td>\n",
       "      <td>Yes</td>\n",
       "      <td>African American</td>\n",
       "    </tr>\n",
       "    <tr>\n",
       "      <th>323</th>\n",
       "      <td>33.745580</td>\n",
       "      <td>182.728</td>\n",
       "      <td>13913</td>\n",
       "      <td>982</td>\n",
       "      <td>4</td>\n",
       "      <td>98</td>\n",
       "      <td>17</td>\n",
       "      <td>Male</td>\n",
       "      <td>No</td>\n",
       "      <td>Yes</td>\n",
       "      <td>Caucasian</td>\n",
       "    </tr>\n",
       "    <tr>\n",
       "      <th>355</th>\n",
       "      <td>34.034656</td>\n",
       "      <td>180.682</td>\n",
       "      <td>11966</td>\n",
       "      <td>832</td>\n",
       "      <td>2</td>\n",
       "      <td>58</td>\n",
       "      <td>8</td>\n",
       "      <td>Female</td>\n",
       "      <td>No</td>\n",
       "      <td>Yes</td>\n",
       "      <td>African American</td>\n",
       "    </tr>\n",
       "    <tr>\n",
       "      <th>261</th>\n",
       "      <td>38.785123</td>\n",
       "      <td>180.379</td>\n",
       "      <td>9310</td>\n",
       "      <td>665</td>\n",
       "      <td>3</td>\n",
       "      <td>67</td>\n",
       "      <td>8</td>\n",
       "      <td>Female</td>\n",
       "      <td>Yes</td>\n",
       "      <td>Yes</td>\n",
       "      <td>Asian</td>\n",
       "    </tr>\n",
       "    <tr>\n",
       "      <th>275</th>\n",
       "      <td>30.212080</td>\n",
       "      <td>163.329</td>\n",
       "      <td>8732</td>\n",
       "      <td>636</td>\n",
       "      <td>3</td>\n",
       "      <td>50</td>\n",
       "      <td>14</td>\n",
       "      <td>Male</td>\n",
       "      <td>No</td>\n",
       "      <td>Yes</td>\n",
       "      <td>Caucasian</td>\n",
       "    </tr>\n",
       "  </tbody>\n",
       "</table>\n",
       "</div>"
      ],
      "text/plain": [
       "       Balance   Income  Limit  Rating  Cards  Age  Education  Gender Student  \\\n",
       "28   35.271011  186.634  13414     949      2   41         14  Female      No   \n",
       "323  33.745580  182.728  13913     982      4   98         17    Male      No   \n",
       "355  34.034656  180.682  11966     832      2   58          8  Female      No   \n",
       "261  38.785123  180.379   9310     665      3   67          8  Female     Yes   \n",
       "275  30.212080  163.329   8732     636      3   50         14    Male      No   \n",
       "\n",
       "    Married         Ethnicity  \n",
       "28      Yes  African American  \n",
       "323     Yes         Caucasian  \n",
       "355     Yes  African American  \n",
       "261     Yes             Asian  \n",
       "275     Yes         Caucasian  "
      ]
     },
     "execution_count": 19,
     "metadata": {},
     "output_type": "execute_result"
    }
   ],
   "source": [
    "df.sort_values(by='Income',ascending=False).head()"
   ]
  },
  {
   "cell_type": "markdown",
   "metadata": {
    "id": "fS4LQaFQK9LO"
   },
   "source": [
    "Selecting a single column, which yields a Series.\n",
    "\n"
   ]
  },
  {
   "cell_type": "code",
   "execution_count": 20,
   "metadata": {
    "id": "T3gOdqCaK9LP",
    "outputId": "bc44cdc6-4f54-46cb-961d-76ed0251aa8f"
   },
   "outputs": [
    {
     "data": {
      "text/plain": [
       "0    283\n",
       "1    483\n",
       "2    514\n",
       "3    681\n",
       "4    357\n",
       "Name: Rating, dtype: int64"
      ]
     },
     "execution_count": 20,
     "metadata": {},
     "output_type": "execute_result"
    }
   ],
   "source": [
    "df.Rating.head(5)"
   ]
  },
  {
   "cell_type": "markdown",
   "metadata": {
    "id": "yW9R4sTrK9LP"
   },
   "source": [
    "Selecting via [ ], which slices the rows.\n",
    "\n"
   ]
  },
  {
   "cell_type": "code",
   "execution_count": 21,
   "metadata": {
    "id": "dELyUkAKK9LP",
    "outputId": "5ed57e4c-7426-482f-c735-7e85cfeb7607"
   },
   "outputs": [
    {
     "data": {
      "text/html": [
       "<div>\n",
       "<style scoped>\n",
       "    .dataframe tbody tr th:only-of-type {\n",
       "        vertical-align: middle;\n",
       "    }\n",
       "\n",
       "    .dataframe tbody tr th {\n",
       "        vertical-align: top;\n",
       "    }\n",
       "\n",
       "    .dataframe thead th {\n",
       "        text-align: right;\n",
       "    }\n",
       "</style>\n",
       "<table border=\"1\" class=\"dataframe\">\n",
       "  <thead>\n",
       "    <tr style=\"text-align: right;\">\n",
       "      <th></th>\n",
       "      <th>Balance</th>\n",
       "      <th>Income</th>\n",
       "      <th>Limit</th>\n",
       "      <th>Rating</th>\n",
       "      <th>Cards</th>\n",
       "      <th>Age</th>\n",
       "      <th>Education</th>\n",
       "      <th>Gender</th>\n",
       "      <th>Student</th>\n",
       "      <th>Married</th>\n",
       "      <th>Ethnicity</th>\n",
       "    </tr>\n",
       "  </thead>\n",
       "  <tbody>\n",
       "    <tr>\n",
       "      <th>50</th>\n",
       "      <td>10.107356</td>\n",
       "      <td>36.362</td>\n",
       "      <td>5183</td>\n",
       "      <td>376</td>\n",
       "      <td>3</td>\n",
       "      <td>49</td>\n",
       "      <td>15</td>\n",
       "      <td>Male</td>\n",
       "      <td>No</td>\n",
       "      <td>Yes</td>\n",
       "      <td>African American</td>\n",
       "    </tr>\n",
       "    <tr>\n",
       "      <th>51</th>\n",
       "      <td>13.010768</td>\n",
       "      <td>39.705</td>\n",
       "      <td>3969</td>\n",
       "      <td>301</td>\n",
       "      <td>2</td>\n",
       "      <td>27</td>\n",
       "      <td>20</td>\n",
       "      <td>Male</td>\n",
       "      <td>No</td>\n",
       "      <td>Yes</td>\n",
       "      <td>African American</td>\n",
       "    </tr>\n",
       "    <tr>\n",
       "      <th>52</th>\n",
       "      <td>11.924342</td>\n",
       "      <td>44.205</td>\n",
       "      <td>5441</td>\n",
       "      <td>394</td>\n",
       "      <td>1</td>\n",
       "      <td>32</td>\n",
       "      <td>12</td>\n",
       "      <td>Male</td>\n",
       "      <td>No</td>\n",
       "      <td>Yes</td>\n",
       "      <td>Caucasian</td>\n",
       "    </tr>\n",
       "    <tr>\n",
       "      <th>53</th>\n",
       "      <td>9.728192</td>\n",
       "      <td>16.304</td>\n",
       "      <td>5466</td>\n",
       "      <td>413</td>\n",
       "      <td>4</td>\n",
       "      <td>66</td>\n",
       "      <td>10</td>\n",
       "      <td>Male</td>\n",
       "      <td>No</td>\n",
       "      <td>Yes</td>\n",
       "      <td>Asian</td>\n",
       "    </tr>\n",
       "    <tr>\n",
       "      <th>54</th>\n",
       "      <td>7.665662</td>\n",
       "      <td>15.333</td>\n",
       "      <td>1499</td>\n",
       "      <td>138</td>\n",
       "      <td>2</td>\n",
       "      <td>47</td>\n",
       "      <td>9</td>\n",
       "      <td>Female</td>\n",
       "      <td>No</td>\n",
       "      <td>Yes</td>\n",
       "      <td>Asian</td>\n",
       "    </tr>\n",
       "    <tr>\n",
       "      <th>55</th>\n",
       "      <td>11.454337</td>\n",
       "      <td>32.916</td>\n",
       "      <td>1786</td>\n",
       "      <td>154</td>\n",
       "      <td>2</td>\n",
       "      <td>60</td>\n",
       "      <td>8</td>\n",
       "      <td>Female</td>\n",
       "      <td>No</td>\n",
       "      <td>Yes</td>\n",
       "      <td>Asian</td>\n",
       "    </tr>\n",
       "    <tr>\n",
       "      <th>56</th>\n",
       "      <td>17.053691</td>\n",
       "      <td>57.100</td>\n",
       "      <td>4742</td>\n",
       "      <td>372</td>\n",
       "      <td>7</td>\n",
       "      <td>79</td>\n",
       "      <td>18</td>\n",
       "      <td>Female</td>\n",
       "      <td>No</td>\n",
       "      <td>Yes</td>\n",
       "      <td>Asian</td>\n",
       "    </tr>\n",
       "    <tr>\n",
       "      <th>57</th>\n",
       "      <td>18.155488</td>\n",
       "      <td>76.273</td>\n",
       "      <td>4779</td>\n",
       "      <td>367</td>\n",
       "      <td>4</td>\n",
       "      <td>65</td>\n",
       "      <td>14</td>\n",
       "      <td>Female</td>\n",
       "      <td>No</td>\n",
       "      <td>Yes</td>\n",
       "      <td>Caucasian</td>\n",
       "    </tr>\n",
       "    <tr>\n",
       "      <th>58</th>\n",
       "      <td>9.180797</td>\n",
       "      <td>10.354</td>\n",
       "      <td>3480</td>\n",
       "      <td>281</td>\n",
       "      <td>2</td>\n",
       "      <td>70</td>\n",
       "      <td>17</td>\n",
       "      <td>Male</td>\n",
       "      <td>No</td>\n",
       "      <td>Yes</td>\n",
       "      <td>Caucasian</td>\n",
       "    </tr>\n",
       "    <tr>\n",
       "      <th>59</th>\n",
       "      <td>16.424095</td>\n",
       "      <td>51.872</td>\n",
       "      <td>5294</td>\n",
       "      <td>390</td>\n",
       "      <td>4</td>\n",
       "      <td>81</td>\n",
       "      <td>17</td>\n",
       "      <td>Female</td>\n",
       "      <td>No</td>\n",
       "      <td>No</td>\n",
       "      <td>Caucasian</td>\n",
       "    </tr>\n",
       "  </tbody>\n",
       "</table>\n",
       "</div>"
      ],
      "text/plain": [
       "      Balance  Income  Limit  Rating  Cards  Age  Education  Gender Student  \\\n",
       "50  10.107356  36.362   5183     376      3   49         15    Male      No   \n",
       "51  13.010768  39.705   3969     301      2   27         20    Male      No   \n",
       "52  11.924342  44.205   5441     394      1   32         12    Male      No   \n",
       "53   9.728192  16.304   5466     413      4   66         10    Male      No   \n",
       "54   7.665662  15.333   1499     138      2   47          9  Female      No   \n",
       "55  11.454337  32.916   1786     154      2   60          8  Female      No   \n",
       "56  17.053691  57.100   4742     372      7   79         18  Female      No   \n",
       "57  18.155488  76.273   4779     367      4   65         14  Female      No   \n",
       "58   9.180797  10.354   3480     281      2   70         17    Male      No   \n",
       "59  16.424095  51.872   5294     390      4   81         17  Female      No   \n",
       "\n",
       "   Married         Ethnicity  \n",
       "50     Yes  African American  \n",
       "51     Yes  African American  \n",
       "52     Yes         Caucasian  \n",
       "53     Yes             Asian  \n",
       "54     Yes             Asian  \n",
       "55     Yes             Asian  \n",
       "56     Yes             Asian  \n",
       "57     Yes         Caucasian  \n",
       "58     Yes         Caucasian  \n",
       "59      No         Caucasian  "
      ]
     },
     "execution_count": 21,
     "metadata": {},
     "output_type": "execute_result"
    }
   ],
   "source": [
    "df[50:60]"
   ]
  },
  {
   "cell_type": "code",
   "execution_count": 22,
   "metadata": {
    "id": "4auo5TSwK9LQ",
    "outputId": "844c3af3-a1d5-4982-8bd6-6bee837d2a3c"
   },
   "outputs": [
    {
     "data": {
      "text/html": [
       "<div>\n",
       "<style scoped>\n",
       "    .dataframe tbody tr th:only-of-type {\n",
       "        vertical-align: middle;\n",
       "    }\n",
       "\n",
       "    .dataframe tbody tr th {\n",
       "        vertical-align: top;\n",
       "    }\n",
       "\n",
       "    .dataframe thead th {\n",
       "        text-align: right;\n",
       "    }\n",
       "</style>\n",
       "<table border=\"1\" class=\"dataframe\">\n",
       "  <thead>\n",
       "    <tr style=\"text-align: right;\">\n",
       "      <th></th>\n",
       "      <th>Balance</th>\n",
       "      <th>Income</th>\n",
       "      <th>Limit</th>\n",
       "      <th>Rating</th>\n",
       "      <th>Cards</th>\n",
       "      <th>Age</th>\n",
       "      <th>Education</th>\n",
       "      <th>Gender</th>\n",
       "      <th>Student</th>\n",
       "      <th>Married</th>\n",
       "      <th>Ethnicity</th>\n",
       "    </tr>\n",
       "  </thead>\n",
       "  <tbody>\n",
       "    <tr>\n",
       "      <th>40</th>\n",
       "      <td>12.029646</td>\n",
       "      <td>34.950</td>\n",
       "      <td>3327</td>\n",
       "      <td>253</td>\n",
       "      <td>3</td>\n",
       "      <td>54</td>\n",
       "      <td>14</td>\n",
       "      <td>Female</td>\n",
       "      <td>No</td>\n",
       "      <td>No</td>\n",
       "      <td>African American</td>\n",
       "    </tr>\n",
       "    <tr>\n",
       "      <th>41</th>\n",
       "      <td>25.291008</td>\n",
       "      <td>113.659</td>\n",
       "      <td>7659</td>\n",
       "      <td>538</td>\n",
       "      <td>2</td>\n",
       "      <td>66</td>\n",
       "      <td>15</td>\n",
       "      <td>Male</td>\n",
       "      <td>Yes</td>\n",
       "      <td>Yes</td>\n",
       "      <td>African American</td>\n",
       "    </tr>\n",
       "    <tr>\n",
       "      <th>42</th>\n",
       "      <td>13.123669</td>\n",
       "      <td>44.158</td>\n",
       "      <td>4763</td>\n",
       "      <td>351</td>\n",
       "      <td>2</td>\n",
       "      <td>66</td>\n",
       "      <td>13</td>\n",
       "      <td>Female</td>\n",
       "      <td>No</td>\n",
       "      <td>Yes</td>\n",
       "      <td>Asian</td>\n",
       "    </tr>\n",
       "    <tr>\n",
       "      <th>43</th>\n",
       "      <td>12.319976</td>\n",
       "      <td>36.929</td>\n",
       "      <td>6257</td>\n",
       "      <td>445</td>\n",
       "      <td>1</td>\n",
       "      <td>24</td>\n",
       "      <td>14</td>\n",
       "      <td>Female</td>\n",
       "      <td>No</td>\n",
       "      <td>Yes</td>\n",
       "      <td>Asian</td>\n",
       "    </tr>\n",
       "    <tr>\n",
       "      <th>44</th>\n",
       "      <td>12.059596</td>\n",
       "      <td>31.861</td>\n",
       "      <td>6375</td>\n",
       "      <td>469</td>\n",
       "      <td>3</td>\n",
       "      <td>25</td>\n",
       "      <td>16</td>\n",
       "      <td>Female</td>\n",
       "      <td>No</td>\n",
       "      <td>Yes</td>\n",
       "      <td>Caucasian</td>\n",
       "    </tr>\n",
       "    <tr>\n",
       "      <th>45</th>\n",
       "      <td>18.653661</td>\n",
       "      <td>77.380</td>\n",
       "      <td>7569</td>\n",
       "      <td>564</td>\n",
       "      <td>3</td>\n",
       "      <td>50</td>\n",
       "      <td>12</td>\n",
       "      <td>Female</td>\n",
       "      <td>No</td>\n",
       "      <td>Yes</td>\n",
       "      <td>Caucasian</td>\n",
       "    </tr>\n",
       "    <tr>\n",
       "      <th>46</th>\n",
       "      <td>10.805825</td>\n",
       "      <td>19.531</td>\n",
       "      <td>5043</td>\n",
       "      <td>376</td>\n",
       "      <td>2</td>\n",
       "      <td>64</td>\n",
       "      <td>16</td>\n",
       "      <td>Female</td>\n",
       "      <td>Yes</td>\n",
       "      <td>Yes</td>\n",
       "      <td>Asian</td>\n",
       "    </tr>\n",
       "    <tr>\n",
       "      <th>47</th>\n",
       "      <td>11.488565</td>\n",
       "      <td>44.646</td>\n",
       "      <td>4431</td>\n",
       "      <td>320</td>\n",
       "      <td>2</td>\n",
       "      <td>49</td>\n",
       "      <td>15</td>\n",
       "      <td>Male</td>\n",
       "      <td>Yes</td>\n",
       "      <td>Yes</td>\n",
       "      <td>Caucasian</td>\n",
       "    </tr>\n",
       "    <tr>\n",
       "      <th>48</th>\n",
       "      <td>13.433468</td>\n",
       "      <td>44.522</td>\n",
       "      <td>2252</td>\n",
       "      <td>205</td>\n",
       "      <td>6</td>\n",
       "      <td>72</td>\n",
       "      <td>15</td>\n",
       "      <td>Male</td>\n",
       "      <td>No</td>\n",
       "      <td>Yes</td>\n",
       "      <td>Asian</td>\n",
       "    </tr>\n",
       "    <tr>\n",
       "      <th>49</th>\n",
       "      <td>14.007633</td>\n",
       "      <td>43.479</td>\n",
       "      <td>4569</td>\n",
       "      <td>354</td>\n",
       "      <td>4</td>\n",
       "      <td>49</td>\n",
       "      <td>13</td>\n",
       "      <td>Male</td>\n",
       "      <td>Yes</td>\n",
       "      <td>Yes</td>\n",
       "      <td>African American</td>\n",
       "    </tr>\n",
       "    <tr>\n",
       "      <th>50</th>\n",
       "      <td>10.107356</td>\n",
       "      <td>36.362</td>\n",
       "      <td>5183</td>\n",
       "      <td>376</td>\n",
       "      <td>3</td>\n",
       "      <td>49</td>\n",
       "      <td>15</td>\n",
       "      <td>Male</td>\n",
       "      <td>No</td>\n",
       "      <td>Yes</td>\n",
       "      <td>African American</td>\n",
       "    </tr>\n",
       "  </tbody>\n",
       "</table>\n",
       "</div>"
      ],
      "text/plain": [
       "      Balance   Income  Limit  Rating  Cards  Age  Education  Gender Student  \\\n",
       "40  12.029646   34.950   3327     253      3   54         14  Female      No   \n",
       "41  25.291008  113.659   7659     538      2   66         15    Male     Yes   \n",
       "42  13.123669   44.158   4763     351      2   66         13  Female      No   \n",
       "43  12.319976   36.929   6257     445      1   24         14  Female      No   \n",
       "44  12.059596   31.861   6375     469      3   25         16  Female      No   \n",
       "45  18.653661   77.380   7569     564      3   50         12  Female      No   \n",
       "46  10.805825   19.531   5043     376      2   64         16  Female     Yes   \n",
       "47  11.488565   44.646   4431     320      2   49         15    Male     Yes   \n",
       "48  13.433468   44.522   2252     205      6   72         15    Male      No   \n",
       "49  14.007633   43.479   4569     354      4   49         13    Male     Yes   \n",
       "50  10.107356   36.362   5183     376      3   49         15    Male      No   \n",
       "\n",
       "   Married         Ethnicity  \n",
       "40      No  African American  \n",
       "41     Yes  African American  \n",
       "42     Yes             Asian  \n",
       "43     Yes             Asian  \n",
       "44     Yes         Caucasian  \n",
       "45     Yes         Caucasian  \n",
       "46     Yes             Asian  \n",
       "47     Yes         Caucasian  \n",
       "48     Yes             Asian  \n",
       "49     Yes  African American  \n",
       "50     Yes  African American  "
      ]
     },
     "execution_count": 22,
     "metadata": {},
     "output_type": "execute_result"
    }
   ],
   "source": [
    "df.loc[40:50]"
   ]
  },
  {
   "cell_type": "markdown",
   "metadata": {
    "id": "LEw6ZuUHK9LQ"
   },
   "source": [
    "#### Selecting Specific Rows and Columns\n",
    "\n",
    "Pandas' `.iloc` attribute allows for efficient selection of specific rows and columns within a DataFrame. Using `df.iloc[5:8, [1, 7]]`, for instance, selects rows 5 to 7 and columns indexed at 1 and 7. Use a semicolon to specify a range of rows and a comma to select specific columns"
   ]
  },
  {
   "cell_type": "code",
   "execution_count": 23,
   "metadata": {
    "id": "1_RR6wVzK9LQ",
    "outputId": "f0858ce6-f3ff-4eba-cb51-7d7ddbdfdb43"
   },
   "outputs": [
    {
     "data": {
      "text/html": [
       "<div>\n",
       "<style scoped>\n",
       "    .dataframe tbody tr th:only-of-type {\n",
       "        vertical-align: middle;\n",
       "    }\n",
       "\n",
       "    .dataframe tbody tr th {\n",
       "        vertical-align: top;\n",
       "    }\n",
       "\n",
       "    .dataframe thead th {\n",
       "        text-align: right;\n",
       "    }\n",
       "</style>\n",
       "<table border=\"1\" class=\"dataframe\">\n",
       "  <thead>\n",
       "    <tr style=\"text-align: right;\">\n",
       "      <th></th>\n",
       "      <th>Income</th>\n",
       "      <th>Gender</th>\n",
       "    </tr>\n",
       "  </thead>\n",
       "  <tbody>\n",
       "    <tr>\n",
       "      <th>5</th>\n",
       "      <td>80.180</td>\n",
       "      <td>Male</td>\n",
       "    </tr>\n",
       "    <tr>\n",
       "      <th>6</th>\n",
       "      <td>20.996</td>\n",
       "      <td>Female</td>\n",
       "    </tr>\n",
       "    <tr>\n",
       "      <th>7</th>\n",
       "      <td>71.408</td>\n",
       "      <td>Male</td>\n",
       "    </tr>\n",
       "  </tbody>\n",
       "</table>\n",
       "</div>"
      ],
      "text/plain": [
       "   Income  Gender\n",
       "5  80.180    Male\n",
       "6  20.996  Female\n",
       "7  71.408    Male"
      ]
     },
     "execution_count": 23,
     "metadata": {},
     "output_type": "execute_result"
    }
   ],
   "source": [
    "df.iloc[5:8,[1,7]]\n"
   ]
  },
  {
   "cell_type": "markdown",
   "metadata": {
    "id": "wpcnzIN3K9LR"
   },
   "source": [
    "Using a single column’s values to select data. Using the example below, we want to find if there are any users who are above the age of 90.\n",
    "\n"
   ]
  },
  {
   "cell_type": "code",
   "execution_count": 24,
   "metadata": {
    "id": "8SCw-mhEK9LS",
    "outputId": "ad6c6012-9490-4e63-8bac-053965da2ad5"
   },
   "outputs": [
    {
     "data": {
      "text/html": [
       "<div>\n",
       "<style scoped>\n",
       "    .dataframe tbody tr th:only-of-type {\n",
       "        vertical-align: middle;\n",
       "    }\n",
       "\n",
       "    .dataframe tbody tr th {\n",
       "        vertical-align: top;\n",
       "    }\n",
       "\n",
       "    .dataframe thead th {\n",
       "        text-align: right;\n",
       "    }\n",
       "</style>\n",
       "<table border=\"1\" class=\"dataframe\">\n",
       "  <thead>\n",
       "    <tr style=\"text-align: right;\">\n",
       "      <th></th>\n",
       "      <th>Balance</th>\n",
       "      <th>Income</th>\n",
       "      <th>Limit</th>\n",
       "      <th>Rating</th>\n",
       "      <th>Cards</th>\n",
       "      <th>Age</th>\n",
       "      <th>Education</th>\n",
       "      <th>Gender</th>\n",
       "      <th>Student</th>\n",
       "      <th>Married</th>\n",
       "      <th>Ethnicity</th>\n",
       "    </tr>\n",
       "  </thead>\n",
       "  <tbody>\n",
       "    <tr>\n",
       "      <th>209</th>\n",
       "      <td>28.14285</td>\n",
       "      <td>151.947</td>\n",
       "      <td>9156</td>\n",
       "      <td>642</td>\n",
       "      <td>2</td>\n",
       "      <td>91</td>\n",
       "      <td>11</td>\n",
       "      <td>Female</td>\n",
       "      <td>No</td>\n",
       "      <td>Yes</td>\n",
       "      <td>African American</td>\n",
       "    </tr>\n",
       "    <tr>\n",
       "      <th>323</th>\n",
       "      <td>33.74558</td>\n",
       "      <td>182.728</td>\n",
       "      <td>13913</td>\n",
       "      <td>982</td>\n",
       "      <td>4</td>\n",
       "      <td>98</td>\n",
       "      <td>17</td>\n",
       "      <td>Male</td>\n",
       "      <td>No</td>\n",
       "      <td>Yes</td>\n",
       "      <td>Caucasian</td>\n",
       "    </tr>\n",
       "  </tbody>\n",
       "</table>\n",
       "</div>"
      ],
      "text/plain": [
       "      Balance   Income  Limit  Rating  Cards  Age  Education  Gender Student  \\\n",
       "209  28.14285  151.947   9156     642      2   91         11  Female      No   \n",
       "323  33.74558  182.728  13913     982      4   98         17    Male      No   \n",
       "\n",
       "    Married         Ethnicity  \n",
       "209     Yes  African American  \n",
       "323     Yes         Caucasian  "
      ]
     },
     "execution_count": 24,
     "metadata": {},
     "output_type": "execute_result"
    }
   ],
   "source": [
    "df[df.Age > 90]"
   ]
  },
  {
   "cell_type": "code",
   "execution_count": 36,
   "metadata": {},
   "outputs": [
    {
     "name": "stdout",
     "output_type": "stream",
     "text": [
      "   Limit  Rating\n",
      "0   3606     283\n",
      "1   6645     483\n",
      "2   7075     514\n",
      "3   9504     681\n",
      "4   4897     357\n"
     ]
    }
   ],
   "source": [
    "# Selecting the 'Limit' and 'Rating' columns of the first five observations.\n",
    "limit_and_columns = df[['Limit', 'Rating']]\n",
    "print(limit_and_columns.head(5))"
   ]
  },
  {
   "cell_type": "code",
   "execution_count": 35,
   "metadata": {},
   "outputs": [
    {
     "name": "stdout",
     "output_type": "stream",
     "text": [
      "      Balance   Income  Limit  Rating  Cards  Age  Education  Gender Student  \\\n",
      "2   22.530409  104.593   7075     514      4   71         11    Male      No   \n",
      "5   22.486178   80.180   8047     569      4   77         10    Male      No   \n",
      "10  13.994990   63.095   8117     589      4   30         14    Male      No   \n",
      "20   9.853100   17.700   2860     235      4   63         16  Female      No   \n",
      "29  14.007770   26.813   5611     411      4   55         16  Female      No   \n",
      "\n",
      "   Married  Ethnicity  \n",
      "2       No      Asian  \n",
      "5       No  Caucasian  \n",
      "10     Yes  Caucasian  \n",
      "20      No      Asian  \n",
      "29      No  Caucasian  \n"
     ]
    }
   ],
   "source": [
    "# Selecting the first five observations with four cards.\n",
    "cards_4 = df.query(\"Cards == 4\")\n",
    "print(cards_4.head(5))"
   ]
  },
  {
   "cell_type": "code",
   "execution_count": 39,
   "metadata": {},
   "outputs": [
    {
     "data": {
      "text/html": [
       "<div>\n",
       "<style scoped>\n",
       "    .dataframe tbody tr th:only-of-type {\n",
       "        vertical-align: middle;\n",
       "    }\n",
       "\n",
       "    .dataframe tbody tr th {\n",
       "        vertical-align: top;\n",
       "    }\n",
       "\n",
       "    .dataframe thead th {\n",
       "        text-align: right;\n",
       "    }\n",
       "</style>\n",
       "<table border=\"1\" class=\"dataframe\">\n",
       "  <thead>\n",
       "    <tr style=\"text-align: right;\">\n",
       "      <th></th>\n",
       "      <th>Balance</th>\n",
       "      <th>Income</th>\n",
       "      <th>Limit</th>\n",
       "      <th>Rating</th>\n",
       "      <th>Cards</th>\n",
       "      <th>Age</th>\n",
       "      <th>Education</th>\n",
       "      <th>Gender</th>\n",
       "      <th>Student</th>\n",
       "      <th>Married</th>\n",
       "      <th>Ethnicity</th>\n",
       "    </tr>\n",
       "  </thead>\n",
       "  <tbody>\n",
       "    <tr>\n",
       "      <th>60</th>\n",
       "      <td>13.297283</td>\n",
       "      <td>35.510</td>\n",
       "      <td>5198</td>\n",
       "      <td>364</td>\n",
       "      <td>2</td>\n",
       "      <td>35</td>\n",
       "      <td>20</td>\n",
       "      <td>Female</td>\n",
       "      <td>No</td>\n",
       "      <td>No</td>\n",
       "      <td>Asian</td>\n",
       "    </tr>\n",
       "    <tr>\n",
       "      <th>51</th>\n",
       "      <td>13.010768</td>\n",
       "      <td>39.705</td>\n",
       "      <td>3969</td>\n",
       "      <td>301</td>\n",
       "      <td>2</td>\n",
       "      <td>27</td>\n",
       "      <td>20</td>\n",
       "      <td>Male</td>\n",
       "      <td>No</td>\n",
       "      <td>Yes</td>\n",
       "      <td>African American</td>\n",
       "    </tr>\n",
       "    <tr>\n",
       "      <th>378</th>\n",
       "      <td>10.140785</td>\n",
       "      <td>19.349</td>\n",
       "      <td>4941</td>\n",
       "      <td>366</td>\n",
       "      <td>1</td>\n",
       "      <td>33</td>\n",
       "      <td>19</td>\n",
       "      <td>Male</td>\n",
       "      <td>No</td>\n",
       "      <td>Yes</td>\n",
       "      <td>Caucasian</td>\n",
       "    </tr>\n",
       "    <tr>\n",
       "      <th>247</th>\n",
       "      <td>13.774598</td>\n",
       "      <td>36.364</td>\n",
       "      <td>2220</td>\n",
       "      <td>188</td>\n",
       "      <td>3</td>\n",
       "      <td>50</td>\n",
       "      <td>19</td>\n",
       "      <td>Male</td>\n",
       "      <td>No</td>\n",
       "      <td>No</td>\n",
       "      <td>Caucasian</td>\n",
       "    </tr>\n",
       "    <tr>\n",
       "      <th>238</th>\n",
       "      <td>11.079748</td>\n",
       "      <td>26.532</td>\n",
       "      <td>2910</td>\n",
       "      <td>236</td>\n",
       "      <td>6</td>\n",
       "      <td>58</td>\n",
       "      <td>19</td>\n",
       "      <td>Female</td>\n",
       "      <td>No</td>\n",
       "      <td>Yes</td>\n",
       "      <td>Caucasian</td>\n",
       "    </tr>\n",
       "    <tr>\n",
       "      <th>...</th>\n",
       "      <td>...</td>\n",
       "      <td>...</td>\n",
       "      <td>...</td>\n",
       "      <td>...</td>\n",
       "      <td>...</td>\n",
       "      <td>...</td>\n",
       "      <td>...</td>\n",
       "      <td>...</td>\n",
       "      <td>...</td>\n",
       "      <td>...</td>\n",
       "      <td>...</td>\n",
       "    </tr>\n",
       "    <tr>\n",
       "      <th>284</th>\n",
       "      <td>8.298482</td>\n",
       "      <td>14.711</td>\n",
       "      <td>2047</td>\n",
       "      <td>167</td>\n",
       "      <td>2</td>\n",
       "      <td>67</td>\n",
       "      <td>6</td>\n",
       "      <td>Male</td>\n",
       "      <td>No</td>\n",
       "      <td>Yes</td>\n",
       "      <td>Caucasian</td>\n",
       "    </tr>\n",
       "    <tr>\n",
       "      <th>368</th>\n",
       "      <td>19.555838</td>\n",
       "      <td>89.000</td>\n",
       "      <td>5759</td>\n",
       "      <td>440</td>\n",
       "      <td>3</td>\n",
       "      <td>37</td>\n",
       "      <td>6</td>\n",
       "      <td>Female</td>\n",
       "      <td>No</td>\n",
       "      <td>No</td>\n",
       "      <td>Caucasian</td>\n",
       "    </tr>\n",
       "    <tr>\n",
       "      <th>224</th>\n",
       "      <td>25.262836</td>\n",
       "      <td>121.709</td>\n",
       "      <td>7818</td>\n",
       "      <td>584</td>\n",
       "      <td>4</td>\n",
       "      <td>50</td>\n",
       "      <td>6</td>\n",
       "      <td>Male</td>\n",
       "      <td>No</td>\n",
       "      <td>Yes</td>\n",
       "      <td>Caucasian</td>\n",
       "    </tr>\n",
       "    <tr>\n",
       "      <th>254</th>\n",
       "      <td>13.997826</td>\n",
       "      <td>36.508</td>\n",
       "      <td>6386</td>\n",
       "      <td>469</td>\n",
       "      <td>4</td>\n",
       "      <td>79</td>\n",
       "      <td>6</td>\n",
       "      <td>Female</td>\n",
       "      <td>No</td>\n",
       "      <td>Yes</td>\n",
       "      <td>Caucasian</td>\n",
       "    </tr>\n",
       "    <tr>\n",
       "      <th>30</th>\n",
       "      <td>10.201523</td>\n",
       "      <td>34.142</td>\n",
       "      <td>5666</td>\n",
       "      <td>413</td>\n",
       "      <td>4</td>\n",
       "      <td>47</td>\n",
       "      <td>5</td>\n",
       "      <td>Female</td>\n",
       "      <td>No</td>\n",
       "      <td>Yes</td>\n",
       "      <td>Caucasian</td>\n",
       "    </tr>\n",
       "  </tbody>\n",
       "</table>\n",
       "<p>400 rows × 11 columns</p>\n",
       "</div>"
      ],
      "text/plain": [
       "       Balance   Income  Limit  Rating  Cards  Age  Education  Gender Student  \\\n",
       "60   13.297283   35.510   5198     364      2   35         20  Female      No   \n",
       "51   13.010768   39.705   3969     301      2   27         20    Male      No   \n",
       "378  10.140785   19.349   4941     366      1   33         19    Male      No   \n",
       "247  13.774598   36.364   2220     188      3   50         19    Male      No   \n",
       "238  11.079748   26.532   2910     236      6   58         19  Female      No   \n",
       "..         ...      ...    ...     ...    ...  ...        ...     ...     ...   \n",
       "284   8.298482   14.711   2047     167      2   67          6    Male      No   \n",
       "368  19.555838   89.000   5759     440      3   37          6  Female      No   \n",
       "224  25.262836  121.709   7818     584      4   50          6    Male      No   \n",
       "254  13.997826   36.508   6386     469      4   79          6  Female      No   \n",
       "30   10.201523   34.142   5666     413      4   47          5  Female      No   \n",
       "\n",
       "    Married         Ethnicity  \n",
       "60       No             Asian  \n",
       "51      Yes  African American  \n",
       "378     Yes         Caucasian  \n",
       "247      No         Caucasian  \n",
       "238     Yes         Caucasian  \n",
       "..      ...               ...  \n",
       "284     Yes         Caucasian  \n",
       "368      No         Caucasian  \n",
       "224     Yes         Caucasian  \n",
       "254     Yes         Caucasian  \n",
       "30      Yes         Caucasian  \n",
       "\n",
       "[400 rows x 11 columns]"
      ]
     },
     "execution_count": 39,
     "metadata": {},
     "output_type": "execute_result"
    }
   ],
   "source": [
    "# Sorting the observations by 'Education' and Showing users with a high education value first.\n",
    "df.sort_values(by='Education',ascending=False)"
   ]
  },
  {
   "cell_type": "code",
   "execution_count": null,
   "metadata": {},
   "outputs": [],
   "source": [
    "# 2. Write a short explanation in the form of a comment for the following lines of code:\n",
    "    \n",
    "# a. df.iloc[:,:] \n",
    "# Selects all rows (:) and all columns (:) of the DataFrame.\n",
    "\n",
    "# b. df.iloc[5:,5:] \n",
    "# Selects all rows from the 5th row onwards (inclusive) and all columns from the 5th column onwards (inclusive).\n",
    "\n",
    "# c. df.iloc[:,0] \n",
    "# Selects all rows (:) and only the first column (0).\n",
    "\n",
    "# d. df.iloc[9,:] \n",
    "# Selects the 10th row (index starts at 0) and all columns (:)."
   ]
  }
 ],
 "metadata": {
  "colab": {
   "provenance": []
  },
  "kernelspec": {
   "display_name": "Python 3 (ipykernel)",
   "language": "python",
   "name": "python3"
  },
  "language_info": {
   "codemirror_mode": {
    "name": "ipython",
    "version": 3
   },
   "file_extension": ".py",
   "mimetype": "text/x-python",
   "name": "python",
   "nbconvert_exporter": "python",
   "pygments_lexer": "ipython3",
   "version": "3.11.5"
  },
  "vscode": {
   "interpreter": {
    "hash": "909775f4c1c1337c10dd26386ad7fdd8e68c24cfe611dcacc1a198b9e09c3e1f"
   }
  }
 },
 "nbformat": 4,
 "nbformat_minor": 1
}
