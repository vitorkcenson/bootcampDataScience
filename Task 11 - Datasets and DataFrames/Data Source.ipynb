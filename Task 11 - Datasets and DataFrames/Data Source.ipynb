{
 "cells": [
  {
   "cell_type": "code",
   "execution_count": 2,
   "id": "0283feee",
   "metadata": {},
   "outputs": [],
   "source": [
    "# This is a code cell."
   ]
  },
  {
   "cell_type": "markdown",
   "id": "2eea6bbe",
   "metadata": {},
   "source": [
    "This is a Markdown cell."
   ]
  },
  {
   "cell_type": "code",
   "execution_count": 4,
   "id": "4dc53b98",
   "metadata": {},
   "outputs": [],
   "source": [
    "import pandas as pd\n",
    "import seaborn as sns\n",
    "\n",
    "insurance_df = pd.read_csv(\"insurance.csv\")"
   ]
  },
  {
   "cell_type": "code",
   "execution_count": 6,
   "id": "8ed4ed43",
   "metadata": {},
   "outputs": [
    {
     "name": "stdout",
     "output_type": "stream",
     "text": [
      "      age     sex     bmi  children smoker     region      charges\n",
      "0      19  female  27.900         0    yes  southwest  16884.92400\n",
      "1      18    male  33.770         1     no  southeast   1725.55230\n",
      "2      28    male  33.000         3     no  southeast   4449.46200\n",
      "3      33    male  22.705         0     no  northwest  21984.47061\n",
      "4      32    male  28.880         0     no  northwest   3866.85520\n",
      "...   ...     ...     ...       ...    ...        ...          ...\n",
      "1333   50    male  30.970         3     no  northwest  10600.54830\n",
      "1334   18  female  31.920         0     no  northeast   2205.98080\n",
      "1335   18  female  36.850         0     no  southeast   1629.83350\n",
      "1336   21  female  25.800         0     no  southwest   2007.94500\n",
      "1337   61  female  29.070         0    yes  northwest  29141.36030\n",
      "\n",
      "[1338 rows x 7 columns]\n"
     ]
    }
   ],
   "source": [
    "print(insurance_df)"
   ]
  },
  {
   "cell_type": "code",
   "execution_count": 10,
   "id": "1d296fc2",
   "metadata": {},
   "outputs": [
    {
     "name": "stdout",
     "output_type": "stream",
     "text": [
      "Index(['age', 'sex', 'bmi', 'children', 'smoker', 'region', 'charges'], dtype='object')\n"
     ]
    }
   ],
   "source": [
    "print(insurance_df.columns)"
   ]
  },
  {
   "cell_type": "code",
   "execution_count": 11,
   "id": "5ce2d06b",
   "metadata": {},
   "outputs": [],
   "source": [
    "just_age = insurance_df['age']"
   ]
  },
  {
   "cell_type": "code",
   "execution_count": 15,
   "id": "a4f8cbe3",
   "metadata": {},
   "outputs": [
    {
     "name": "stdout",
     "output_type": "stream",
     "text": [
      "0       19\n",
      "1       18\n",
      "2       28\n",
      "3       33\n",
      "4       32\n",
      "        ..\n",
      "1333    50\n",
      "1334    18\n",
      "1335    18\n",
      "1336    21\n",
      "1337    61\n",
      "Name: age, Length: 1338, dtype: int64\n"
     ]
    }
   ],
   "source": [
    "print(just_age)"
   ]
  },
  {
   "cell_type": "code",
   "execution_count": 17,
   "id": "fd28b4a3",
   "metadata": {},
   "outputs": [
    {
     "name": "stdout",
     "output_type": "stream",
     "text": [
      "1303    43\n",
      "11      62\n",
      "1012    61\n",
      "274     25\n",
      "947     37\n",
      "846     51\n",
      "1002    24\n",
      "1100    33\n",
      "126     19\n",
      "542     63\n",
      "Name: age, dtype: int64\n"
     ]
    }
   ],
   "source": [
    "print(just_age.sample(10))"
   ]
  },
  {
   "cell_type": "code",
   "execution_count": 18,
   "id": "f6cc4e3a",
   "metadata": {},
   "outputs": [
    {
     "name": "stdout",
     "output_type": "stream",
     "text": [
      "   age     sex     bmi  children smoker     region      charges\n",
      "0   19  female  27.900         0    yes  southwest  16884.92400\n",
      "1   18    male  33.770         1     no  southeast   1725.55230\n",
      "2   28    male  33.000         3     no  southeast   4449.46200\n",
      "3   33    male  22.705         0     no  northwest  21984.47061\n",
      "4   32    male  28.880         0     no  northwest   3866.85520\n",
      "5   31  female  25.740         0     no  southeast   3756.62160\n",
      "6   46  female  33.440         1     no  southeast   8240.58960\n",
      "7   37  female  27.740         3     no  northwest   7281.50560\n",
      "8   37    male  29.830         2     no  northeast   6406.41070\n",
      "9   60  female  25.840         0     no  northwest  28923.13692\n"
     ]
    }
   ],
   "source": [
    "print(insurance_df.head(10))"
   ]
  },
  {
   "cell_type": "code",
   "execution_count": 19,
   "id": "d13e1245",
   "metadata": {},
   "outputs": [],
   "source": [
    "age_and_child_info = insurance_df[['age', 'children']]"
   ]
  },
  {
   "cell_type": "code",
   "execution_count": 20,
   "id": "bde6c0db",
   "metadata": {},
   "outputs": [
    {
     "name": "stdout",
     "output_type": "stream",
     "text": [
      "      age  children\n",
      "1014   38         0\n",
      "733    48         1\n",
      "487    19         0\n",
      "149    19         1\n",
      "216    53         0\n",
      "1143   39         2\n",
      "976    48         0\n",
      "67     40         1\n",
      "603    64         3\n",
      "637    35         2\n",
      "774    41         2\n",
      "484    48         3\n",
      "528    46         1\n",
      "12     23         0\n",
      "392    48         1\n",
      "914    33         2\n",
      "347    46         1\n",
      "166    20         5\n",
      "1207   36         2\n",
      "1148   55         1\n"
     ]
    }
   ],
   "source": [
    "print(age_and_child_info.sample(20))"
   ]
  },
  {
   "cell_type": "code",
   "execution_count": 21,
   "id": "874224c9",
   "metadata": {},
   "outputs": [
    {
     "name": "stdout",
     "output_type": "stream",
     "text": [
      "34.1\n"
     ]
    }
   ],
   "source": [
    "print(just_age.head(10).mean())"
   ]
  },
  {
   "cell_type": "code",
   "execution_count": 22,
   "id": "680728de",
   "metadata": {},
   "outputs": [
    {
     "name": "stdout",
     "output_type": "stream",
     "text": [
      "39.20702541106129\n"
     ]
    }
   ],
   "source": [
    "print(just_age.mean())"
   ]
  },
  {
   "cell_type": "code",
   "execution_count": 28,
   "id": "1131e826",
   "metadata": {},
   "outputs": [
    {
     "name": "stdout",
     "output_type": "stream",
     "text": [
      "1\n"
     ]
    }
   ],
   "source": [
    "print(int(insurance_df['children'].mean()))"
   ]
  },
  {
   "cell_type": "code",
   "execution_count": 29,
   "id": "a3a0b083",
   "metadata": {},
   "outputs": [
    {
     "name": "stdout",
     "output_type": "stream",
     "text": [
      "39\n"
     ]
    }
   ],
   "source": [
    "print(int(insurance_df['age'].mean()))"
   ]
  },
  {
   "cell_type": "code",
   "execution_count": 30,
   "id": "7ec16d19",
   "metadata": {},
   "outputs": [],
   "source": [
    "age_and_charges_info = insurance_df[['age', 'charges']]"
   ]
  },
  {
   "cell_type": "code",
   "execution_count": 31,
   "id": "7492416e",
   "metadata": {},
   "outputs": [
    {
     "name": "stdout",
     "output_type": "stream",
     "text": [
      "      age      charges\n",
      "304    57  12646.20700\n",
      "564    18   2801.25880\n",
      "389    24   4618.07990\n",
      "1079   63  15161.53440\n",
      "757    47  23065.42070\n",
      "931    39   6238.29800\n",
      "1213   52  10806.83900\n",
      "1141   41   7954.51700\n",
      "1219   38   7537.16390\n",
      "905    26   4564.19145\n",
      "290    28   3172.01800\n",
      "653    45   8527.53200\n",
      "263    19  36219.40545\n",
      "289    52  25992.82104\n",
      "887    36   5272.17580\n",
      "353    33  12404.87910\n",
      "484    48   9563.02900\n",
      "1214   27   3956.07145\n",
      "1255   42   6474.01300\n",
      "334    43  19144.57652\n"
     ]
    }
   ],
   "source": [
    "print(age_and_charges_info.sample(20))"
   ]
  },
  {
   "cell_type": "code",
   "execution_count": 32,
   "id": "3ab7c443",
   "metadata": {},
   "outputs": [
    {
     "name": "stdout",
     "output_type": "stream",
     "text": [
      "13270.422265141257\n"
     ]
    }
   ],
   "source": [
    "print(insurance_df['charges'].mean())"
   ]
  },
  {
   "cell_type": "code",
   "execution_count": 33,
   "id": "fc1afc54",
   "metadata": {},
   "outputs": [
    {
     "name": "stdout",
     "output_type": "stream",
     "text": [
      "1337\n"
     ]
    }
   ],
   "source": [
    "print(insurance_df['charges'].nunique())"
   ]
  },
  {
   "cell_type": "code",
   "execution_count": 34,
   "id": "ba606107",
   "metadata": {},
   "outputs": [
    {
     "name": "stdout",
     "output_type": "stream",
     "text": [
      "47\n"
     ]
    }
   ],
   "source": [
    "print(insurance_df['age'].nunique())"
   ]
  },
  {
   "cell_type": "code",
   "execution_count": 35,
   "id": "c82a4b78",
   "metadata": {},
   "outputs": [],
   "source": [
    "# Get people in the 30-35 age group\n",
    "between_30_and_35 = insurance_df[(insurance_df['age'] > 30) &\n",
    "(insurance_df['age'] < 35 )]"
   ]
  },
  {
   "cell_type": "code",
   "execution_count": 36,
   "id": "b447d05a",
   "metadata": {},
   "outputs": [
    {
     "name": "stdout",
     "output_type": "stream",
     "text": [
      "10839.408303333334\n"
     ]
    }
   ],
   "source": [
    "# Print average(mean) charges for all people in the 30-35 age group\n",
    "print(between_30_and_35['charges'].mean())"
   ]
  },
  {
   "cell_type": "code",
   "execution_count": 40,
   "id": "f029d882",
   "metadata": {},
   "outputs": [],
   "source": [
    "age_38 = insurance_df[(insurance_df['age'] == 38)]"
   ]
  },
  {
   "cell_type": "code",
   "execution_count": 41,
   "id": "df0bb7e1",
   "metadata": {},
   "outputs": [
    {
     "name": "stdout",
     "output_type": "stream",
     "text": [
      "1.48\n"
     ]
    }
   ],
   "source": [
    "print(age_38['children'].mean())"
   ]
  },
  {
   "cell_type": "code",
   "execution_count": 42,
   "id": "0195e257",
   "metadata": {},
   "outputs": [],
   "source": [
    "age_35 = insurance_df.query(\"age == 35\")"
   ]
  },
  {
   "cell_type": "code",
   "execution_count": 43,
   "id": "21a017db",
   "metadata": {},
   "outputs": [
    {
     "name": "stdout",
     "output_type": "stream",
     "text": [
      "1.68\n"
     ]
    }
   ],
   "source": [
    "print(age_35['children'].mean())"
   ]
  },
  {
   "cell_type": "code",
   "execution_count": 44,
   "id": "1d1e35c8",
   "metadata": {},
   "outputs": [
    {
     "name": "stdout",
     "output_type": "stream",
     "text": [
      "age\n",
      "18     7086.217556\n",
      "19     9747.909335\n",
      "20    10159.697736\n",
      "21     4730.464330\n",
      "22    10012.932802\n",
      "23    12419.820040\n",
      "24    10648.015962\n",
      "25     9838.365311\n",
      "26     6133.825309\n",
      "27    12184.701721\n",
      "28     9069.187564\n",
      "29    10430.158727\n",
      "30    12719.110358\n",
      "31    10196.980573\n",
      "32     9220.300291\n",
      "33    12351.532987\n",
      "34    11613.528121\n",
      "35    11307.182031\n",
      "36    12204.476138\n",
      "37    18019.911877\n",
      "38     8102.733674\n",
      "39    11778.242945\n",
      "40    11772.251310\n",
      "41     9653.745650\n",
      "42    13061.038669\n",
      "43    19267.278653\n",
      "44    15859.396587\n",
      "45    14830.199856\n",
      "46    14342.590639\n",
      "47    17653.999593\n",
      "48    14632.500445\n",
      "49    12696.006264\n",
      "50    15663.003301\n",
      "51    15682.255867\n",
      "52    18256.269719\n",
      "53    16020.930755\n",
      "54    18758.546475\n",
      "55    16164.545488\n",
      "56    15025.515837\n",
      "57    16447.185250\n",
      "58    13878.928112\n",
      "59    18895.869532\n",
      "60    21979.418507\n",
      "61    22024.457609\n",
      "62    19163.856573\n",
      "63    19884.998461\n",
      "64    23275.530837\n",
      "Name: charges, dtype: float64\n"
     ]
    }
   ],
   "source": [
    "print(insurance_df.groupby('age')['charges'].mean())"
   ]
  },
  {
   "cell_type": "code",
   "execution_count": 46,
   "id": "4b8abbbd",
   "metadata": {},
   "outputs": [
    {
     "name": "stdout",
     "output_type": "stream",
     "text": [
      "children\n",
      "0    12365.975602\n",
      "1    12731.171832\n",
      "2    15073.563734\n",
      "3    15355.318367\n",
      "4    13850.656311\n",
      "5     8786.035247\n",
      "Name: charges, dtype: float64\n"
     ]
    }
   ],
   "source": [
    "print(insurance_df.groupby('children')['charges'].mean())"
   ]
  },
  {
   "cell_type": "code",
   "execution_count": null,
   "id": "21e12e72",
   "metadata": {},
   "outputs": [],
   "source": []
  }
 ],
 "metadata": {
  "kernelspec": {
   "display_name": "Python 3 (ipykernel)",
   "language": "python",
   "name": "python3"
  },
  "language_info": {
   "codemirror_mode": {
    "name": "ipython",
    "version": 3
   },
   "file_extension": ".py",
   "mimetype": "text/x-python",
   "name": "python",
   "nbconvert_exporter": "python",
   "pygments_lexer": "ipython3",
   "version": "3.11.5"
  }
 },
 "nbformat": 4,
 "nbformat_minor": 5
}
